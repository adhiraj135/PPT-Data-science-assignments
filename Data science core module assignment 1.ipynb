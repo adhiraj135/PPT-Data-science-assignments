{
 "cells": [
  {
   "cell_type": "markdown",
   "id": "87420892",
   "metadata": {},
   "source": [
    "1. Write a Python program to reverse a string without using any built-in string reversal functions."
   ]
  },
  {
   "cell_type": "code",
   "execution_count": 10,
   "id": "a39dc99a",
   "metadata": {},
   "outputs": [],
   "source": [
    "def reverse(x):\n",
    "    return x[::-1]"
   ]
  },
  {
   "cell_type": "code",
   "execution_count": 11,
   "id": "ff5fb912",
   "metadata": {},
   "outputs": [
    {
     "data": {
      "text/plain": [
       "'jarihda'"
      ]
     },
     "execution_count": 11,
     "metadata": {},
     "output_type": "execute_result"
    }
   ],
   "source": [
    "reverse(\"adhiraj\")"
   ]
  },
  {
   "cell_type": "markdown",
   "id": "9d5a66ad",
   "metadata": {},
   "source": [
    "2. Implement a function to check if a given string is a palindrome."
   ]
  },
  {
   "cell_type": "code",
   "execution_count": 13,
   "id": "d6b4f3a9",
   "metadata": {},
   "outputs": [],
   "source": [
    "def is_palindrome(x):\n",
    "    if x==x[::-1]:\n",
    "        return True\n",
    "    else:\n",
    "        return False"
   ]
  },
  {
   "cell_type": "code",
   "execution_count": 14,
   "id": "293ec774",
   "metadata": {},
   "outputs": [
    {
     "data": {
      "text/plain": [
       "True"
      ]
     },
     "execution_count": 14,
     "metadata": {},
     "output_type": "execute_result"
    }
   ],
   "source": [
    "is_palindrome(\"abba\")"
   ]
  },
  {
   "cell_type": "code",
   "execution_count": 15,
   "id": "93e8975e",
   "metadata": {},
   "outputs": [
    {
     "data": {
      "text/plain": [
       "False"
      ]
     },
     "execution_count": 15,
     "metadata": {},
     "output_type": "execute_result"
    }
   ],
   "source": [
    "is_palindrome(\"abca\")"
   ]
  },
  {
   "cell_type": "markdown",
   "id": "7f5d6ca7",
   "metadata": {},
   "source": [
    "3. Write a program to find the largest element in a given list."
   ]
  },
  {
   "cell_type": "code",
   "execution_count": 1,
   "id": "00db33ac",
   "metadata": {},
   "outputs": [],
   "source": [
    "def largest(l):\n",
    "    return max(l)"
   ]
  },
  {
   "cell_type": "code",
   "execution_count": 2,
   "id": "67933920",
   "metadata": {},
   "outputs": [
    {
     "data": {
      "text/plain": [
       "3513532"
      ]
     },
     "execution_count": 2,
     "metadata": {},
     "output_type": "execute_result"
    }
   ],
   "source": [
    "largest([1,2,3,4,5431,3513532])"
   ]
  },
  {
   "cell_type": "markdown",
   "id": "e2381d1f",
   "metadata": {},
   "source": [
    "4. Implement a function to count the occurrence of each element in a list."
   ]
  },
  {
   "cell_type": "code",
   "execution_count": 3,
   "id": "a7403cd8",
   "metadata": {},
   "outputs": [],
   "source": [
    "def occurence_count(l):\n",
    "    dic={}\n",
    "    for i in l:\n",
    "        dic[i]=l.count(i)\n",
    "    return dic\n",
    "        "
   ]
  },
  {
   "cell_type": "code",
   "execution_count": 4,
   "id": "2b54642c",
   "metadata": {},
   "outputs": [
    {
     "data": {
      "text/plain": [
       "{1: 1, 12: 3, 34: 2, 5: 4}"
      ]
     },
     "execution_count": 4,
     "metadata": {},
     "output_type": "execute_result"
    }
   ],
   "source": [
    "occurence_count([1,12,12,12,34,34,5,5,5,5])"
   ]
  },
  {
   "cell_type": "markdown",
   "id": "e206a81f",
   "metadata": {},
   "source": [
    "5. Write a Python program to find the second largest number in a list."
   ]
  },
  {
   "cell_type": "code",
   "execution_count": 8,
   "id": "8b6f54a3",
   "metadata": {},
   "outputs": [],
   "source": [
    "def second_largest(l):\n",
    "    l.remove(max(l))\n",
    "    return max(l)"
   ]
  },
  {
   "cell_type": "code",
   "execution_count": 9,
   "id": "2947d5dc",
   "metadata": {},
   "outputs": [
    {
     "data": {
      "text/plain": [
       "3"
      ]
     },
     "execution_count": 9,
     "metadata": {},
     "output_type": "execute_result"
    }
   ],
   "source": [
    "second_largest([1,2,3,4])"
   ]
  },
  {
   "cell_type": "markdown",
   "id": "82175a9e",
   "metadata": {},
   "source": [
    "6. Implement a function to remove duplicate elements from a list."
   ]
  },
  {
   "cell_type": "code",
   "execution_count": 15,
   "id": "308f4d1c",
   "metadata": {},
   "outputs": [],
   "source": [
    "def duplicate_removal(l):\n",
    "    return list(set(l))"
   ]
  },
  {
   "cell_type": "code",
   "execution_count": 17,
   "id": "6dc5710d",
   "metadata": {},
   "outputs": [
    {
     "data": {
      "text/plain": [
       "[1, 2, 3, 4, 5, 'adhi', 'data']"
      ]
     },
     "execution_count": 17,
     "metadata": {},
     "output_type": "execute_result"
    }
   ],
   "source": [
    "duplicate_removal([1,2,2,2,3,4,4,5,5,5,\"adhi\",\"adhi\",\"data\",\"data\"])"
   ]
  },
  {
   "cell_type": "markdown",
   "id": "d3ee2c60",
   "metadata": {},
   "source": [
    "7. Write a program to calculate the factorial of a given number."
   ]
  },
  {
   "cell_type": "code",
   "execution_count": 18,
   "id": "4021a4e0",
   "metadata": {},
   "outputs": [],
   "source": [
    "def factorial(n):\n",
    "    mul=1\n",
    "    if n==0:\n",
    "        return 0\n",
    "    elif n==1:\n",
    "        return 1\n",
    "    else:\n",
    "        for i in range(1,n+1):\n",
    "            mul=mul*i\n",
    "        return mul"
   ]
  },
  {
   "cell_type": "code",
   "execution_count": 19,
   "id": "b73e18a1",
   "metadata": {},
   "outputs": [
    {
     "data": {
      "text/plain": [
       "120"
      ]
     },
     "execution_count": 19,
     "metadata": {},
     "output_type": "execute_result"
    }
   ],
   "source": [
    "factorial(5)"
   ]
  },
  {
   "cell_type": "code",
   "execution_count": 20,
   "id": "a73f11b3",
   "metadata": {},
   "outputs": [
    {
     "data": {
      "text/plain": [
       "5040"
      ]
     },
     "execution_count": 20,
     "metadata": {},
     "output_type": "execute_result"
    }
   ],
   "source": [
    "factorial(7)"
   ]
  },
  {
   "cell_type": "markdown",
   "id": "c6eac76b",
   "metadata": {},
   "source": [
    "8. Implement a function to check if a given number is prime."
   ]
  },
  {
   "cell_type": "code",
   "execution_count": 27,
   "id": "2c8fefd4",
   "metadata": {},
   "outputs": [],
   "source": [
    "def is_prime(n):\n",
    "    if n<=0:\n",
    "        return False\n",
    "    elif n==1:\n",
    "        return True\n",
    "    elif n==2:\n",
    "        return True\n",
    "    else:\n",
    "        for i in range(2,n):\n",
    "            if n%i!=0:\n",
    "                return True\n",
    "            else:\n",
    "                return False"
   ]
  },
  {
   "cell_type": "code",
   "execution_count": 28,
   "id": "a4886d7d",
   "metadata": {},
   "outputs": [
    {
     "data": {
      "text/plain": [
       "True"
      ]
     },
     "execution_count": 28,
     "metadata": {},
     "output_type": "execute_result"
    }
   ],
   "source": [
    "is_prime(17)"
   ]
  },
  {
   "cell_type": "code",
   "execution_count": 29,
   "id": "caee48ec",
   "metadata": {},
   "outputs": [
    {
     "data": {
      "text/plain": [
       "True"
      ]
     },
     "execution_count": 29,
     "metadata": {},
     "output_type": "execute_result"
    }
   ],
   "source": [
    "is_prime(2)"
   ]
  },
  {
   "cell_type": "code",
   "execution_count": 30,
   "id": "775494fb",
   "metadata": {},
   "outputs": [
    {
     "data": {
      "text/plain": [
       "False"
      ]
     },
     "execution_count": 30,
     "metadata": {},
     "output_type": "execute_result"
    }
   ],
   "source": [
    "is_prime(16)"
   ]
  },
  {
   "cell_type": "markdown",
   "id": "6bec6e45",
   "metadata": {},
   "source": [
    "9. Write a Python program to sort a list of integers in ascending order."
   ]
  },
  {
   "cell_type": "code",
   "execution_count": 31,
   "id": "fef71570",
   "metadata": {},
   "outputs": [],
   "source": [
    "def ascend(l):\n",
    "    return sorted(l)"
   ]
  },
  {
   "cell_type": "code",
   "execution_count": 33,
   "id": "40055ca8",
   "metadata": {},
   "outputs": [
    {
     "data": {
      "text/plain": [
       "[3, 5, 6, 34, 213]"
      ]
     },
     "execution_count": 33,
     "metadata": {},
     "output_type": "execute_result"
    }
   ],
   "source": [
    "ascend([34,213,3,5,6])"
   ]
  },
  {
   "cell_type": "markdown",
   "id": "7104560d",
   "metadata": {},
   "source": [
    "10. Implement a function to find the sum of all numbers in a list."
   ]
  },
  {
   "cell_type": "code",
   "execution_count": 34,
   "id": "bd47b97e",
   "metadata": {},
   "outputs": [],
   "source": [
    "def sum_of_list(l):\n",
    "    sum=0\n",
    "    for i in l:\n",
    "        sum=sum+i\n",
    "    return sum"
   ]
  },
  {
   "cell_type": "code",
   "execution_count": 35,
   "id": "83b940b3",
   "metadata": {},
   "outputs": [
    {
     "data": {
      "text/plain": [
       "261"
      ]
     },
     "execution_count": 35,
     "metadata": {},
     "output_type": "execute_result"
    }
   ],
   "source": [
    "sum_of_list([34,213,3,5,6])"
   ]
  },
  {
   "cell_type": "markdown",
   "id": "2931f505",
   "metadata": {},
   "source": [
    "11. Write a program to find the common elements between two lists.\n"
   ]
  },
  {
   "cell_type": "code",
   "execution_count": 36,
   "id": "1b38b1b9",
   "metadata": {},
   "outputs": [],
   "source": [
    "def common_elements(l1,l2):\n",
    "    l=[]\n",
    "    for i in l1:\n",
    "        if i in l2:\n",
    "            l.append(i)\n",
    "    return l"
   ]
  },
  {
   "cell_type": "code",
   "execution_count": 37,
   "id": "1643286f",
   "metadata": {},
   "outputs": [
    {
     "data": {
      "text/plain": [
       "[5, 6]"
      ]
     },
     "execution_count": 37,
     "metadata": {},
     "output_type": "execute_result"
    }
   ],
   "source": [
    "common_elements([1,2,3,4,5,6],[5,6,7,8,9])"
   ]
  },
  {
   "cell_type": "markdown",
   "id": "b3291e25",
   "metadata": {},
   "source": [
    "12. Implement a function to check if a given string is an anagram of another string."
   ]
  },
  {
   "cell_type": "code",
   "execution_count": 38,
   "id": "c09a34a1",
   "metadata": {},
   "outputs": [],
   "source": [
    "def is_anagram(l1,l2):\n",
    "    l=[]\n",
    "    for i in l1:\n",
    "        if i not in l2:\n",
    "            l.append(i)\n",
    "    if len(l)==0:\n",
    "        return True\n",
    "    else:\n",
    "        return False"
   ]
  },
  {
   "cell_type": "code",
   "execution_count": 40,
   "id": "742851e0",
   "metadata": {},
   "outputs": [
    {
     "data": {
      "text/plain": [
       "True"
      ]
     },
     "execution_count": 40,
     "metadata": {},
     "output_type": "execute_result"
    }
   ],
   "source": [
    "is_anagram(\"listen\",\"silent\")"
   ]
  },
  {
   "cell_type": "code",
   "execution_count": 43,
   "id": "25367d49",
   "metadata": {},
   "outputs": [
    {
     "data": {
      "text/plain": [
       "False"
      ]
     },
     "execution_count": 43,
     "metadata": {},
     "output_type": "execute_result"
    }
   ],
   "source": [
    "is_anagram(\"adhiraj\",\"abhijeet\")"
   ]
  },
  {
   "cell_type": "code",
   "execution_count": 44,
   "id": "79e9f9b1",
   "metadata": {},
   "outputs": [],
   "source": [
    "import itertools"
   ]
  },
  {
   "cell_type": "markdown",
   "id": "32714f6c",
   "metadata": {},
   "source": [
    "13. Write a Python program to generate all permutations of a given string."
   ]
  },
  {
   "cell_type": "code",
   "execution_count": 55,
   "id": "502a300a",
   "metadata": {},
   "outputs": [],
   "source": [
    "def permutations(s):\n",
    "    for i in itertools.permutations(s):\n",
    "        print(''.join(list(i)))"
   ]
  },
  {
   "cell_type": "code",
   "execution_count": 56,
   "id": "114f7539",
   "metadata": {},
   "outputs": [
    {
     "name": "stdout",
     "output_type": "stream",
     "text": [
      "abc\n",
      "acb\n",
      "bac\n",
      "bca\n",
      "cab\n",
      "cba\n"
     ]
    }
   ],
   "source": [
    "permutations(\"abc\")"
   ]
  },
  {
   "cell_type": "markdown",
   "id": "787f7e3c",
   "metadata": {},
   "source": [
    "14. Implement a function to calculate the Fibonacci sequence up to a given number of terms."
   ]
  },
  {
   "cell_type": "code",
   "execution_count": 57,
   "id": "6f33802c",
   "metadata": {},
   "outputs": [
    {
     "name": "stdout",
     "output_type": "stream",
     "text": [
      "Fibonacci sequence with 10 terms:\n",
      "[0, 1, 1, 2, 3, 5, 8, 13, 21, 34]\n"
     ]
    }
   ],
   "source": [
    "def fibonacci_sequence(n):\n",
    "    sequence = []  # List to store the Fibonacci sequence\n",
    "\n",
    "    # Check if the number of terms is less than or equal to 0\n",
    "    if n <= 0:\n",
    "        return sequence\n",
    "\n",
    "    # First two terms of the Fibonacci sequence\n",
    "    sequence.append(0)\n",
    "    if n > 1:\n",
    "        sequence.append(1)\n",
    "\n",
    "    # Generate the remaining terms of the Fibonacci sequence\n",
    "    while len(sequence) < n:\n",
    "        next_term = sequence[-1] + sequence[-2]\n",
    "        sequence.append(next_term)\n",
    "\n",
    "    return sequence\n",
    "\n",
    "# Example usage\n",
    "num_terms = 10\n",
    "fib_sequence = fibonacci_sequence(num_terms)\n",
    "print(\"Fibonacci sequence with\", num_terms, \"terms:\")\n",
    "print(fib_sequence)\n"
   ]
  },
  {
   "cell_type": "markdown",
   "id": "a33e04cd",
   "metadata": {},
   "source": [
    "16. Implement a function to check if a given list is sorted in non-decreasing order."
   ]
  },
  {
   "cell_type": "code",
   "execution_count": 58,
   "id": "0833b956",
   "metadata": {},
   "outputs": [],
   "source": [
    "def is_sorted(lst):\n",
    "    for i in range(len(lst) - 1):\n",
    "        if lst[i] > lst[i+1]:\n",
    "            return False\n",
    "    return True"
   ]
  },
  {
   "cell_type": "code",
   "execution_count": 59,
   "id": "4787f4c6",
   "metadata": {},
   "outputs": [
    {
     "data": {
      "text/plain": [
       "True"
      ]
     },
     "execution_count": 59,
     "metadata": {},
     "output_type": "execute_result"
    }
   ],
   "source": [
    "is_sorted([1,2,3,4,5])"
   ]
  },
  {
   "cell_type": "code",
   "execution_count": 62,
   "id": "b9b10fdc",
   "metadata": {},
   "outputs": [
    {
     "data": {
      "text/plain": [
       "False"
      ]
     },
     "execution_count": 62,
     "metadata": {},
     "output_type": "execute_result"
    }
   ],
   "source": [
    "is_sorted([5,4,3,2,1])\n"
   ]
  },
  {
   "cell_type": "markdown",
   "id": "413562b8",
   "metadata": {},
   "source": [
    "17. Write a Python program to find the intersection of two lists."
   ]
  },
  {
   "cell_type": "code",
   "execution_count": 63,
   "id": "78700fc4",
   "metadata": {},
   "outputs": [],
   "source": [
    "def intesection(l1,l2):\n",
    "    l=[]\n",
    "    for i in l1:\n",
    "        if i in l2:\n",
    "            l.append(i)\n",
    "    return l"
   ]
  },
  {
   "cell_type": "code",
   "execution_count": 64,
   "id": "1a132158",
   "metadata": {},
   "outputs": [
    {
     "data": {
      "text/plain": [
       "[5]"
      ]
     },
     "execution_count": 64,
     "metadata": {},
     "output_type": "execute_result"
    }
   ],
   "source": [
    "intesection([1,2,3,4,5],[5,6,7,8])"
   ]
  },
  {
   "cell_type": "markdown",
   "id": "b5eab0f9",
   "metadata": {},
   "source": [
    "18. Implement a function to find the maximum subarray sum in a given list."
   ]
  },
  {
   "cell_type": "code",
   "execution_count": null,
   "id": "2b6cf04b",
   "metadata": {},
   "outputs": [],
   "source": []
  },
  {
   "cell_type": "markdown",
   "id": "148c67d4",
   "metadata": {},
   "source": [
    "19. Write a program to remove all vowels from a given string."
   ]
  },
  {
   "cell_type": "code",
   "execution_count": 73,
   "id": "2a7750c3",
   "metadata": {},
   "outputs": [],
   "source": [
    "def vowel_removal(s):\n",
    "    v=\"aeiou\"\n",
    "    for i in v:\n",
    "        s=s.replace(i,'')\n",
    "    return s\n",
    "    "
   ]
  },
  {
   "cell_type": "code",
   "execution_count": 74,
   "id": "e58c766a",
   "metadata": {},
   "outputs": [
    {
     "data": {
      "text/plain": [
       "'dhrj'"
      ]
     },
     "execution_count": 74,
     "metadata": {},
     "output_type": "execute_result"
    }
   ],
   "source": [
    "vowel_removal(\"adhiraj\")"
   ]
  },
  {
   "cell_type": "code",
   "execution_count": 75,
   "id": "34848ae1",
   "metadata": {},
   "outputs": [
    {
     "data": {
      "text/plain": [
       "'dtscnc'"
      ]
     },
     "execution_count": 75,
     "metadata": {},
     "output_type": "execute_result"
    }
   ],
   "source": [
    "vowel_removal(\"datascience\")"
   ]
  },
  {
   "cell_type": "markdown",
   "id": "aac0b476",
   "metadata": {},
   "source": [
    "20. Implement a function to reverse the order of words in a given sentence."
   ]
  },
  {
   "cell_type": "code",
   "execution_count": 81,
   "id": "cf885aaa",
   "metadata": {},
   "outputs": [],
   "source": [
    "def reverse_order(s):\n",
    "    return ' '.join(s.split()[::-1]) "
   ]
  },
  {
   "cell_type": "code",
   "execution_count": 82,
   "id": "61b165a4",
   "metadata": {},
   "outputs": [
    {
     "data": {
      "text/plain": [
       "'assignment ppt a is this'"
      ]
     },
     "execution_count": 82,
     "metadata": {},
     "output_type": "execute_result"
    }
   ],
   "source": [
    "reverse_order(\"this is a ppt assignment\")"
   ]
  },
  {
   "cell_type": "markdown",
   "id": "99c1a556",
   "metadata": {},
   "source": [
    "21. Write a Python program to check if two strings are anagrams of each other."
   ]
  },
  {
   "cell_type": "code",
   "execution_count": 83,
   "id": "cba89d5d",
   "metadata": {},
   "outputs": [],
   "source": [
    "def is_anagram(l1,l2):\n",
    "    l=[]\n",
    "    for i in l1:\n",
    "        if i not in l2:\n",
    "            l.append(i)\n",
    "    if len(l)==0:\n",
    "        return True\n",
    "    else:\n",
    "        return False"
   ]
  },
  {
   "cell_type": "code",
   "execution_count": 84,
   "id": "daed3b2d",
   "metadata": {},
   "outputs": [
    {
     "data": {
      "text/plain": [
       "True"
      ]
     },
     "execution_count": 84,
     "metadata": {},
     "output_type": "execute_result"
    }
   ],
   "source": [
    "is_anagram(\"silent\",\"listen\")"
   ]
  },
  {
   "cell_type": "code",
   "execution_count": 85,
   "id": "d76d5755",
   "metadata": {},
   "outputs": [
    {
     "data": {
      "text/plain": [
       "False"
      ]
     },
     "execution_count": 85,
     "metadata": {},
     "output_type": "execute_result"
    }
   ],
   "source": [
    "is_anagram(\"adhi\",\"abhi\")"
   ]
  },
  {
   "cell_type": "markdown",
   "id": "8b53728c",
   "metadata": {},
   "source": [
    "22. Implement a function to find the first non-repeating character in a string."
   ]
  },
  {
   "cell_type": "code",
   "execution_count": 86,
   "id": "450f581b",
   "metadata": {},
   "outputs": [],
   "source": [
    "s=\"adhiraj\""
   ]
  },
  {
   "cell_type": "code",
   "execution_count": 87,
   "id": "ea2e058a",
   "metadata": {},
   "outputs": [
    {
     "data": {
      "text/plain": [
       "2"
      ]
     },
     "execution_count": 87,
     "metadata": {},
     "output_type": "execute_result"
    }
   ],
   "source": [
    "s.count(\"a\")"
   ]
  },
  {
   "cell_type": "code",
   "execution_count": 88,
   "id": "ffdd25d5",
   "metadata": {},
   "outputs": [],
   "source": [
    "def non_repeating_char(s):\n",
    "    for i in s:\n",
    "        if s.count(i)==1:\n",
    "            return i"
   ]
  },
  {
   "cell_type": "code",
   "execution_count": 89,
   "id": "eced509f",
   "metadata": {},
   "outputs": [
    {
     "data": {
      "text/plain": [
       "'d'"
      ]
     },
     "execution_count": 89,
     "metadata": {},
     "output_type": "execute_result"
    }
   ],
   "source": [
    "non_repeating_char(\"adhiraj\")"
   ]
  },
  {
   "cell_type": "markdown",
   "id": "95779435",
   "metadata": {},
   "source": [
    "23. Write a program to find the prime factors of a given number.\n",
    "\n"
   ]
  },
  {
   "cell_type": "code",
   "execution_count": 96,
   "id": "9cbdc909",
   "metadata": {},
   "outputs": [
    {
     "name": "stdout",
     "output_type": "stream",
     "text": [
      "Prime factors of 84 :\n",
      "[2, 2, 3, 7]\n"
     ]
    }
   ],
   "source": [
    "def prime_factors(n):\n",
    "    factors = []  # List to store prime factors\n",
    "\n",
    "    # Check for divisibility by 2\n",
    "    while n % 2 == 0:\n",
    "        factors.append(2)\n",
    "        n //= 2\n",
    "\n",
    "    # Check for divisibility by odd numbers starting from 3\n",
    "    for i in range(3, int(n**0.5) + 1, 2):\n",
    "        while n % i == 0:\n",
    "            factors.append(i)\n",
    "            n //= i\n",
    "\n",
    "    # If n is still greater than 2, it is a prime factor itself\n",
    "    if n > 2:\n",
    "        factors.append(n)\n",
    "\n",
    "    return factors\n",
    "\n",
    "# Example usage\n",
    "number = 84\n",
    "factors = prime_factors(number)\n",
    "print(\"Prime factors of\", number, \":\")\n",
    "print(factors)\n"
   ]
  },
  {
   "cell_type": "markdown",
   "id": "6bf76ecc",
   "metadata": {},
   "source": [
    "24. Implement a function to check if a given number is a power of two."
   ]
  },
  {
   "cell_type": "code",
   "execution_count": 118,
   "id": "469f9e5a",
   "metadata": {},
   "outputs": [],
   "source": [
    "def is_power_of_2(n):\n",
    "    if (n**0.5).is_integer():\n",
    "        return True\n",
    "    else:\n",
    "        return False"
   ]
  },
  {
   "cell_type": "code",
   "execution_count": 119,
   "id": "63f81f3d",
   "metadata": {},
   "outputs": [
    {
     "data": {
      "text/plain": [
       "True"
      ]
     },
     "execution_count": 119,
     "metadata": {},
     "output_type": "execute_result"
    }
   ],
   "source": [
    "is_power_of_2(9)"
   ]
  },
  {
   "cell_type": "code",
   "execution_count": 120,
   "id": "0ffacc4f",
   "metadata": {},
   "outputs": [
    {
     "data": {
      "text/plain": [
       "False"
      ]
     },
     "execution_count": 120,
     "metadata": {},
     "output_type": "execute_result"
    }
   ],
   "source": [
    "is_power_of_2(8)"
   ]
  },
  {
   "cell_type": "markdown",
   "id": "af4850a3",
   "metadata": {},
   "source": [
    "25. Write a Python program to merge two sorted lists into a single sorted list."
   ]
  },
  {
   "cell_type": "code",
   "execution_count": 122,
   "id": "256270fa",
   "metadata": {},
   "outputs": [],
   "source": [
    "def merger_sorted_list(l1,l2):\n",
    "    return sorted(sorted(l1)+sorted(l2))"
   ]
  },
  {
   "cell_type": "code",
   "execution_count": 125,
   "id": "3ea2b901",
   "metadata": {},
   "outputs": [
    {
     "data": {
      "text/plain": [
       "[1, 2, 4, 5, 6, 7, 34, 44]"
      ]
     },
     "execution_count": 125,
     "metadata": {},
     "output_type": "execute_result"
    }
   ],
   "source": [
    "merger_sorted_list([1,2,34,4],[44,5,6,7])"
   ]
  },
  {
   "cell_type": "markdown",
   "id": "25261414",
   "metadata": {},
   "source": [
    "26. Implement a function to find the mode of a list of numbers."
   ]
  },
  {
   "cell_type": "code",
   "execution_count": 129,
   "id": "5bd01b99",
   "metadata": {},
   "outputs": [],
   "source": [
    "from statistics import mode"
   ]
  },
  {
   "cell_type": "code",
   "execution_count": 130,
   "id": "210f93f6",
   "metadata": {},
   "outputs": [],
   "source": [
    "def mode_of_list(l):\n",
    "    return mode(l)\n",
    "    "
   ]
  },
  {
   "cell_type": "code",
   "execution_count": 131,
   "id": "77a1fa27",
   "metadata": {},
   "outputs": [
    {
     "data": {
      "text/plain": [
       "7"
      ]
     },
     "execution_count": 131,
     "metadata": {},
     "output_type": "execute_result"
    }
   ],
   "source": [
    "mode_of_list([1,2,2,3,4,5,5,6,7,7,7,8])"
   ]
  },
  {
   "cell_type": "markdown",
   "id": "4e2e2ffa",
   "metadata": {},
   "source": [
    "27. Write a program to find the greatest common divisor (GCD) of two numbers."
   ]
  },
  {
   "cell_type": "code",
   "execution_count": 141,
   "id": "ac214ebe",
   "metadata": {},
   "outputs": [],
   "source": [
    "def GCD(n1,n2):\n",
    "    l=[]\n",
    "    for i in range(1,n1+1):\n",
    "        if n1%i==0 and n2%i==0:\n",
    "            l.append(i)\n",
    "    return max(l)"
   ]
  },
  {
   "cell_type": "code",
   "execution_count": 142,
   "id": "52c667d0",
   "metadata": {},
   "outputs": [
    {
     "data": {
      "text/plain": [
       "12"
      ]
     },
     "execution_count": 142,
     "metadata": {},
     "output_type": "execute_result"
    }
   ],
   "source": [
    "GCD(24,36)"
   ]
  },
  {
   "cell_type": "markdown",
   "id": "507475a7",
   "metadata": {},
   "source": [
    "28. Implement a function to calculate the square root of a given number."
   ]
  },
  {
   "cell_type": "code",
   "execution_count": 143,
   "id": "21fc0985",
   "metadata": {},
   "outputs": [],
   "source": [
    "def square_root(n):\n",
    "    return math.sqrt(n)"
   ]
  },
  {
   "cell_type": "code",
   "execution_count": 144,
   "id": "afb174a5",
   "metadata": {},
   "outputs": [
    {
     "data": {
      "text/plain": [
       "3.0"
      ]
     },
     "execution_count": 144,
     "metadata": {},
     "output_type": "execute_result"
    }
   ],
   "source": [
    "square_root(9)"
   ]
  },
  {
   "cell_type": "markdown",
   "id": "dfd3f787",
   "metadata": {},
   "source": [
    "29. Write a Python program to check if a given string is a valid palindrome ignoring non-alphanumeric characters.\n"
   ]
  },
  {
   "cell_type": "code",
   "execution_count": 145,
   "id": "3492298d",
   "metadata": {},
   "outputs": [],
   "source": [
    "def is_palindrome(x):\n",
    "    if type(x)==str:\n",
    "        if x==x[::-1]:\n",
    "            return True\n",
    "        else:\n",
    "            return False\n",
    "    else:\n",
    "        return \"enter alphabetic characters\""
   ]
  },
  {
   "cell_type": "code",
   "execution_count": 148,
   "id": "7ae53828",
   "metadata": {},
   "outputs": [
    {
     "data": {
      "text/plain": [
       "True"
      ]
     },
     "execution_count": 148,
     "metadata": {},
     "output_type": "execute_result"
    }
   ],
   "source": [
    "is_palindrome(\"abba\")"
   ]
  },
  {
   "cell_type": "code",
   "execution_count": 150,
   "id": "441a4a0f",
   "metadata": {},
   "outputs": [
    {
     "data": {
      "text/plain": [
       "False"
      ]
     },
     "execution_count": 150,
     "metadata": {},
     "output_type": "execute_result"
    }
   ],
   "source": [
    "is_palindrome(\"abc\")"
   ]
  },
  {
   "cell_type": "code",
   "execution_count": 152,
   "id": "584bfff3",
   "metadata": {},
   "outputs": [
    {
     "data": {
      "text/plain": [
       "'enter alphabetic characters'"
      ]
     },
     "execution_count": 152,
     "metadata": {},
     "output_type": "execute_result"
    }
   ],
   "source": [
    "is_palindrome(1221)"
   ]
  },
  {
   "cell_type": "markdown",
   "id": "e8f7a3f7",
   "metadata": {},
   "source": [
    "30. Implement a function to find the minimum element in a rotated sorted list"
   ]
  },
  {
   "cell_type": "code",
   "execution_count": 153,
   "id": "9588ccea",
   "metadata": {},
   "outputs": [],
   "source": [
    "def min_element(l):\n",
    "    return min(sorted(l)[::-1])"
   ]
  },
  {
   "cell_type": "code",
   "execution_count": 154,
   "id": "d9490019",
   "metadata": {},
   "outputs": [
    {
     "data": {
      "text/plain": [
       "1"
      ]
     },
     "execution_count": 154,
     "metadata": {},
     "output_type": "execute_result"
    }
   ],
   "source": [
    "min_element([1,2,3,4,56,3,45,21])"
   ]
  },
  {
   "cell_type": "markdown",
   "id": "972fbc4c",
   "metadata": {},
   "source": [
    "31. Write a program to find the sum of all even numbers in a list."
   ]
  },
  {
   "cell_type": "code",
   "execution_count": 157,
   "id": "e8b91ef3",
   "metadata": {},
   "outputs": [],
   "source": [
    "def sum_even(l):\n",
    "    s=0\n",
    "    for i in l:\n",
    "        if i%2==0:\n",
    "            s=s+i\n",
    "        return s"
   ]
  },
  {
   "cell_type": "code",
   "execution_count": 159,
   "id": "afddfc06",
   "metadata": {},
   "outputs": [
    {
     "data": {
      "text/plain": [
       "30"
      ]
     },
     "execution_count": 159,
     "metadata": {},
     "output_type": "execute_result"
    }
   ],
   "source": [
    "sum_even([1,2,3,4,5,6,7,8,9,10])"
   ]
  },
  {
   "cell_type": "markdown",
   "id": "fcc602fb",
   "metadata": {},
   "source": [
    "32. Implement a function to calculate the power of a number using recursion"
   ]
  },
  {
   "cell_type": "code",
   "execution_count": 160,
   "id": "4d673df6",
   "metadata": {},
   "outputs": [
    {
     "name": "stdout",
     "output_type": "stream",
     "text": [
      "2 raised to the power of 3 is: 8\n"
     ]
    }
   ],
   "source": [
    "def power(base, exponent):\n",
    "    if exponent == 0:\n",
    "        return 1\n",
    "    elif exponent > 0:\n",
    "        return base * power(base, exponent - 1)\n",
    "    else:\n",
    "        return 1 / power(base, -exponent)\n",
    "\n",
    "# Example usage\n",
    "base = 2\n",
    "exponent = 3\n",
    "result = power(base, exponent)\n",
    "print(f\"{base} raised to the power of {exponent} is: {result}\")\n"
   ]
  },
  {
   "cell_type": "markdown",
   "id": "887792ca",
   "metadata": {},
   "source": [
    "33. Write a Python program to remove duplicates from a list while preserving the order."
   ]
  },
  {
   "cell_type": "code",
   "execution_count": 161,
   "id": "d3f61fb7",
   "metadata": {},
   "outputs": [],
   "source": [
    "def remove_duplicates(l):\n",
    "    for i in l:\n",
    "        if l.count(i)>1:\n",
    "            l.remove(i)\n",
    "    return l"
   ]
  },
  {
   "cell_type": "code",
   "execution_count": 162,
   "id": "50ac4632",
   "metadata": {},
   "outputs": [
    {
     "data": {
      "text/plain": [
       "[1, 2, 3, 4, 5, 67, 98, 89]"
      ]
     },
     "execution_count": 162,
     "metadata": {},
     "output_type": "execute_result"
    }
   ],
   "source": [
    "remove_duplicates([1,2,3,4,5,5,5,67,67,89,98,89])"
   ]
  },
  {
   "cell_type": "markdown",
   "id": "a445c8ff",
   "metadata": {},
   "source": [
    "34. Implement a function to find the longest common prefix among a list of strings."
   ]
  },
  {
   "cell_type": "code",
   "execution_count": 163,
   "id": "3b1d3ada",
   "metadata": {},
   "outputs": [
    {
     "name": "stdout",
     "output_type": "stream",
     "text": [
      "Longest common prefix: fl\n"
     ]
    }
   ],
   "source": [
    "def longest_common_prefix(strings):\n",
    "    if not strings:\n",
    "        return \"\"\n",
    "\n",
    "    # Find the minimum length among all strings\n",
    "    min_length = min(len(string) for string in strings)\n",
    "\n",
    "    # Iterate through characters up to the minimum length\n",
    "    for i in range(min_length):\n",
    "        current_char = strings[0][i]\n",
    "\n",
    "        # Check if the character is the same in all strings\n",
    "        if all(string[i] == current_char for string in strings):\n",
    "            continue\n",
    "        else:\n",
    "            return strings[0][:i]\n",
    "\n",
    "    # Return the prefix up to the minimum length\n",
    "    return strings[0][:min_length]\n",
    "\n",
    "# Example usage\n",
    "word_list = [\"flower\", \"flow\", \"flight\"]\n",
    "common_prefix = longest_common_prefix(word_list)\n",
    "print(\"Longest common prefix:\", common_prefix)\n"
   ]
  },
  {
   "cell_type": "markdown",
   "id": "6c369748",
   "metadata": {},
   "source": [
    "35. Write a program to check if a given number is a perfect square."
   ]
  },
  {
   "cell_type": "code",
   "execution_count": 167,
   "id": "dbce0cd6",
   "metadata": {},
   "outputs": [],
   "source": [
    "def is_perfect_square(n):\n",
    "    if (n**0.5).is_integer():\n",
    "        return True\n",
    "    else:\n",
    "        return False"
   ]
  },
  {
   "cell_type": "code",
   "execution_count": 168,
   "id": "d1bd734b",
   "metadata": {},
   "outputs": [
    {
     "data": {
      "text/plain": [
       "False"
      ]
     },
     "execution_count": 168,
     "metadata": {},
     "output_type": "execute_result"
    }
   ],
   "source": [
    "is_perfect_square(8)"
   ]
  },
  {
   "cell_type": "code",
   "execution_count": 169,
   "id": "b7b1a7fb",
   "metadata": {},
   "outputs": [
    {
     "data": {
      "text/plain": [
       "True"
      ]
     },
     "execution_count": 169,
     "metadata": {},
     "output_type": "execute_result"
    }
   ],
   "source": [
    "is_perfect_square(16)"
   ]
  },
  {
   "cell_type": "markdown",
   "id": "0664cb62",
   "metadata": {},
   "source": [
    "36. Implement a function to calculate the product of all elements in a list."
   ]
  },
  {
   "cell_type": "code",
   "execution_count": 170,
   "id": "f9fb9943",
   "metadata": {},
   "outputs": [],
   "source": [
    "def product(l):\n",
    "    mul=1\n",
    "    for i in l:\n",
    "        mul=mul*i\n",
    "    return mul"
   ]
  },
  {
   "cell_type": "code",
   "execution_count": 171,
   "id": "1d0c8cf6",
   "metadata": {},
   "outputs": [
    {
     "data": {
      "text/plain": [
       "20000"
      ]
     },
     "execution_count": 171,
     "metadata": {},
     "output_type": "execute_result"
    }
   ],
   "source": [
    "product([10,5,4,100])"
   ]
  },
  {
   "cell_type": "markdown",
   "id": "117623ca",
   "metadata": {},
   "source": [
    "37. Write a Python program to reverse the order of words in a sentence while preserving the word order."
   ]
  },
  {
   "cell_type": "code",
   "execution_count": 172,
   "id": "fbdefab1",
   "metadata": {},
   "outputs": [],
   "source": [
    "def reverse_order(s):\n",
    "    return ' '.join(s.split()[::-1]) "
   ]
  },
  {
   "cell_type": "code",
   "execution_count": 173,
   "id": "bacef37d",
   "metadata": {},
   "outputs": [
    {
     "data": {
      "text/plain": [
       "'science data of student am i'"
      ]
     },
     "execution_count": 173,
     "metadata": {},
     "output_type": "execute_result"
    }
   ],
   "source": [
    "reverse_order(\"i am student of data science\")"
   ]
  },
  {
   "cell_type": "markdown",
   "id": "e11894da",
   "metadata": {},
   "source": [
    "38. Implement a function to find the missing number in a given list of consecutive numbers."
   ]
  },
  {
   "cell_type": "code",
   "execution_count": 175,
   "id": "51b7cbd8",
   "metadata": {},
   "outputs": [],
   "source": [
    "def missing_number(l):\n",
    "    l1=[]\n",
    "    for i in range(min(l),max(l)+1):\n",
    "        if i not in l:\n",
    "            l1.append(i)\n",
    "    return l1"
   ]
  },
  {
   "cell_type": "code",
   "execution_count": 176,
   "id": "f70906de",
   "metadata": {},
   "outputs": [
    {
     "data": {
      "text/plain": [
       "[38, 40]"
      ]
     },
     "execution_count": 176,
     "metadata": {},
     "output_type": "execute_result"
    }
   ],
   "source": [
    "missing_number([34,35,36,37,39,41])"
   ]
  },
  {
   "cell_type": "markdown",
   "id": "b9341084",
   "metadata": {},
   "source": [
    "39. Write a program to find the sum of digits of a given number.\n"
   ]
  },
  {
   "cell_type": "code",
   "execution_count": 182,
   "id": "aa24aba2",
   "metadata": {},
   "outputs": [],
   "source": [
    "def digits_sum(n):\n",
    "    sum=0\n",
    "    for i in range(len(str(n))):\n",
    "        sum=sum+int(str(n)[i])\n",
    "    return sum"
   ]
  },
  {
   "cell_type": "code",
   "execution_count": 185,
   "id": "07b91aa4",
   "metadata": {},
   "outputs": [
    {
     "data": {
      "text/plain": [
       "10"
      ]
     },
     "execution_count": 185,
     "metadata": {},
     "output_type": "execute_result"
    }
   ],
   "source": [
    "digits_sum(523)"
   ]
  },
  {
   "cell_type": "markdown",
   "id": "76ea6e4f",
   "metadata": {},
   "source": [
    "40. Implement a function to check if a given string is a valid palindrome considering case sensitivity."
   ]
  },
  {
   "cell_type": "code",
   "execution_count": 187,
   "id": "bcad74f9",
   "metadata": {},
   "outputs": [],
   "source": [
    "def is_palindrome(x):\n",
    "    if x.lower()==x[::-1].lower():\n",
    "        return True\n",
    "    else:\n",
    "        return False"
   ]
  },
  {
   "cell_type": "code",
   "execution_count": 188,
   "id": "018fc936",
   "metadata": {},
   "outputs": [
    {
     "data": {
      "text/plain": [
       "True"
      ]
     },
     "execution_count": 188,
     "metadata": {},
     "output_type": "execute_result"
    }
   ],
   "source": [
    "is_palindrome(\"abba\")"
   ]
  },
  {
   "cell_type": "code",
   "execution_count": 189,
   "id": "d69bc0e0",
   "metadata": {},
   "outputs": [
    {
     "data": {
      "text/plain": [
       "True"
      ]
     },
     "execution_count": 189,
     "metadata": {},
     "output_type": "execute_result"
    }
   ],
   "source": [
    "is_palindrome(\"Abba\")"
   ]
  },
  {
   "cell_type": "code",
   "execution_count": 190,
   "id": "0f15ef42",
   "metadata": {},
   "outputs": [
    {
     "data": {
      "text/plain": [
       "False"
      ]
     },
     "execution_count": 190,
     "metadata": {},
     "output_type": "execute_result"
    }
   ],
   "source": [
    "is_palindrome(\"abcAA\")"
   ]
  },
  {
   "cell_type": "markdown",
   "id": "75e0183b",
   "metadata": {},
   "source": [
    "41. Write a Python program to find the smallest missing positive integer in a list."
   ]
  },
  {
   "cell_type": "code",
   "execution_count": 193,
   "id": "242b66c3",
   "metadata": {},
   "outputs": [],
   "source": [
    "def missing_smallest_number(l):\n",
    "    l1=[]\n",
    "    for i in range(min(l),max(l)+1):\n",
    "        if i not in l:\n",
    "            l1.append(i)\n",
    "    return min(l1)"
   ]
  },
  {
   "cell_type": "code",
   "execution_count": 194,
   "id": "dcce752d",
   "metadata": {},
   "outputs": [
    {
     "data": {
      "text/plain": [
       "5"
      ]
     },
     "execution_count": 194,
     "metadata": {},
     "output_type": "execute_result"
    }
   ],
   "source": [
    "missing_smallest_number([3,4,7,9,12])"
   ]
  },
  {
   "cell_type": "markdown",
   "id": "b3a6ca7e",
   "metadata": {},
   "source": [
    "42. Implement a function to find the longest palindrome substring in a given string."
   ]
  },
  {
   "cell_type": "code",
   "execution_count": null,
   "id": "c3c17057",
   "metadata": {},
   "outputs": [],
   "source": []
  },
  {
   "cell_type": "markdown",
   "id": "dba9d58c",
   "metadata": {},
   "source": [
    "43. Write a program to find the number of occurrences of a given element in a list."
   ]
  },
  {
   "cell_type": "code",
   "execution_count": 195,
   "id": "deb0764c",
   "metadata": {},
   "outputs": [],
   "source": [
    "def occurence_count(l):\n",
    "    dic={}\n",
    "    for i in l:\n",
    "        dic[i]=l.count(i)\n",
    "    return dic"
   ]
  },
  {
   "cell_type": "code",
   "execution_count": 196,
   "id": "fb83aa35",
   "metadata": {},
   "outputs": [
    {
     "data": {
      "text/plain": [
       "{1: 1, 2: 2, 3: 1, 5: 3, 6: 5}"
      ]
     },
     "execution_count": 196,
     "metadata": {},
     "output_type": "execute_result"
    }
   ],
   "source": [
    "occurence_count([1,2,2,3,5,5,5,6,6,6,6,6])"
   ]
  },
  {
   "cell_type": "markdown",
   "id": "eb2f3735",
   "metadata": {},
   "source": [
    "44. Implement a function to check if a given number is a perfect number."
   ]
  },
  {
   "cell_type": "code",
   "execution_count": 197,
   "id": "1f63da7b",
   "metadata": {},
   "outputs": [],
   "source": [
    "def is_perfect_square(n):\n",
    "    if (n**0.5).is_integer():\n",
    "        return True\n",
    "    else:\n",
    "        return False"
   ]
  },
  {
   "cell_type": "code",
   "execution_count": 198,
   "id": "1b10846d",
   "metadata": {},
   "outputs": [
    {
     "data": {
      "text/plain": [
       "False"
      ]
     },
     "execution_count": 198,
     "metadata": {},
     "output_type": "execute_result"
    }
   ],
   "source": [
    "is_perfect_square(8)"
   ]
  },
  {
   "cell_type": "code",
   "execution_count": 199,
   "id": "42e258c6",
   "metadata": {},
   "outputs": [
    {
     "data": {
      "text/plain": [
       "True"
      ]
     },
     "execution_count": 199,
     "metadata": {},
     "output_type": "execute_result"
    }
   ],
   "source": [
    "is_perfect_square(25)"
   ]
  },
  {
   "cell_type": "markdown",
   "id": "5c99b0a8",
   "metadata": {},
   "source": [
    "45. Write a Python program to remove all duplicates from a string."
   ]
  },
  {
   "cell_type": "code",
   "execution_count": 200,
   "id": "157a060a",
   "metadata": {},
   "outputs": [],
   "source": [
    "def remove_duplicates(l):\n",
    "    for i in l:\n",
    "        if l.count(i)>1:\n",
    "            l.remove(i)\n",
    "    return l"
   ]
  },
  {
   "cell_type": "code",
   "execution_count": 201,
   "id": "09e8ccce",
   "metadata": {},
   "outputs": [
    {
     "data": {
      "text/plain": [
       "[1, 45, 34, 45, 67]"
      ]
     },
     "execution_count": 201,
     "metadata": {},
     "output_type": "execute_result"
    }
   ],
   "source": [
    "remove_duplicates([1,1,1,45,67,34,34,45,67])"
   ]
  },
  {
   "cell_type": "markdown",
   "id": "4e7d8958",
   "metadata": {},
   "source": [
    "46. Implement a function to find the first missing positive"
   ]
  },
  {
   "cell_type": "code",
   "execution_count": 203,
   "id": "f098b4a8",
   "metadata": {},
   "outputs": [],
   "source": [
    "def missing_positive_number(l):\n",
    "    l1=[]\n",
    "    for i in range(min(l),max(l)+1):\n",
    "        if i not in l:\n",
    "            l1.append(i)\n",
    "    return l1[0]"
   ]
  },
  {
   "cell_type": "code",
   "execution_count": 205,
   "id": "6623ade4",
   "metadata": {},
   "outputs": [
    {
     "data": {
      "text/plain": [
       "38"
      ]
     },
     "execution_count": 205,
     "metadata": {},
     "output_type": "execute_result"
    }
   ],
   "source": [
    "missing_positive_number([34,35,36,37,40])"
   ]
  },
  {
   "cell_type": "code",
   "execution_count": null,
   "id": "7053f1ec",
   "metadata": {},
   "outputs": [],
   "source": []
  }
 ],
 "metadata": {
  "kernelspec": {
   "display_name": "Python 3 (ipykernel)",
   "language": "python",
   "name": "python3"
  },
  "language_info": {
   "codemirror_mode": {
    "name": "ipython",
    "version": 3
   },
   "file_extension": ".py",
   "mimetype": "text/x-python",
   "name": "python",
   "nbconvert_exporter": "python",
   "pygments_lexer": "ipython3",
   "version": "3.9.12"
  }
 },
 "nbformat": 4,
 "nbformat_minor": 5
}
